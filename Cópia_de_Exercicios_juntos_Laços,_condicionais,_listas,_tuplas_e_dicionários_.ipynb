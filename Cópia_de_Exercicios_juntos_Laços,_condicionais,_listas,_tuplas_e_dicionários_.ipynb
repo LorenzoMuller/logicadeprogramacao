{
  "nbformat": 4,
  "nbformat_minor": 0,
  "metadata": {
    "colab": {
      "provenance": [],
      "include_colab_link": true
    },
    "kernelspec": {
      "name": "python3",
      "display_name": "Python 3"
    },
    "language_info": {
      "name": "python"
    }
  },
  "cells": [
    {
      "cell_type": "markdown",
      "metadata": {
        "id": "view-in-github",
        "colab_type": "text"
      },
      "source": [
        "<a href=\"https://colab.research.google.com/github/LorenzoMuller/logicadeprogramacao/blob/main/C%C3%B3pia_de_Exercicios_juntos_La%C3%A7os%2C_condicionais%2C_listas%2C_tuplas_e_dicion%C3%A1rios_.ipynb\" target=\"_parent\"><img src=\"https://colab.research.google.com/assets/colab-badge.svg\" alt=\"Open In Colab\"/></a>"
      ]
    },
    {
      "cell_type": "markdown",
      "source": [
        "Lista de Exercícios unindo tudo que foi ensinado até o momento:\n",
        "\n",
        "\n",
        "*   Condicionais\n",
        "*   Laços de Reptição\n",
        "*   Listas\n",
        "*   Tuplas\n",
        "*   Dicionários\n",
        "*   Manipulação de Strings\n",
        "\n",
        "\n",
        "\n",
        "\n",
        "\n"
      ],
      "metadata": {
        "id": "JsFcwNObBRcd"
      }
    },
    {
      "cell_type": "markdown",
      "source": [
        "# Tuplas - Acesso e Desempacotamento\n",
        "\n",
        "1) Crie uma tupla contendo três tipos diferentes de dados: um número, uma string e uma lista. Use um laço de repetição para acessar e imprimir cada item da tupla. Além disso, dentro do laço, acesse e imprima o segundo item da lista que está dentro da tupla."
      ],
      "metadata": {
        "id": "HM91bKpkBqGI"
      }
    },
    {
      "cell_type": "code",
      "source": [
        "dados = (24, \"Cíntia\",[1,2,3])\n",
        "\n",
        "for i in dados:\n",
        "  print(i)"
      ],
      "metadata": {
        "colab": {
          "base_uri": "https://localhost:8080/"
        },
        "id": "sCbCOqPVYeRv",
        "outputId": "1562f547-2765-4a1e-dc63-72c47c44eca5"
      },
      "execution_count": null,
      "outputs": [
        {
          "output_type": "stream",
          "name": "stdout",
          "text": [
            "24\n",
            "Cíntia\n",
            "[1, 2, 3]\n"
          ]
        }
      ]
    },
    {
      "cell_type": "code",
      "source": [],
      "metadata": {
        "colab": {
          "base_uri": "https://localhost:8080/"
        },
        "id": "pZ8TJ7EFYsjg",
        "outputId": "421ac61c-a610-4c30-e322-382b944de8df"
      },
      "execution_count": null,
      "outputs": [
        {
          "output_type": "execute_result",
          "data": {
            "text/plain": [
              "tuple"
            ]
          },
          "metadata": {},
          "execution_count": 2
        }
      ]
    },
    {
      "cell_type": "markdown",
      "source": [
        "# Dicionários - Criação e Acesso\n",
        "## Cadastro de Pessoas e Análise de Alturas\n",
        "2) Solicite ao usuário para inserir o nome e a altura de várias pessoas. Preencha um dicionário com essas informações e depois encontre e imprima o nome e a altura da pessoa mais alta e da mais baixa."
      ],
      "metadata": {
        "id": "6vEHxGtjBxMi"
      }
    },
    {
      "cell_type": "code",
      "source": [
        "pessoas = {}\n",
        "\n",
        "while True:\n",
        "    nome = input(\"Digite o nome da pessoa: \")\n",
        "    if nome.lower() == 'parar':\n",
        "      break\n",
        "    altura = float(input(f\"Digite a altura de {nome} em metros: \"))\n",
        "    pessoas[nome] = altura\n",
        "    print(pessoas)\n",
        "if pessoas :\n",
        "\n",
        "  Maior = max(pessoas , key=pessoas.get)\n",
        "  Menor = min(pessoas, key=pessoas.get)\n",
        "\n",
        "  print(f\"A pessoa mais alta é: {Maior} com {pessoas[Maior]} metros\")\n",
        "  print(f\"A pessoa mais baixa é: {Menor} com {pessoas[Menor]} metros\")\n",
        "\n",
        "else:\n",
        "  print(\"nenhuma pessoa inserida\")"
      ],
      "metadata": {
        "id": "MpJYauvTZR69",
        "colab": {
          "base_uri": "https://localhost:8080/"
        },
        "outputId": "fa98be3b-743d-43b0-8018-f8b56ed708c6"
      },
      "execution_count": 5,
      "outputs": [
        {
          "output_type": "stream",
          "name": "stdout",
          "text": [
            "Digite o nome da pessoa: renan\n",
            "Digite a altura de renan em metros: 2.00\n",
            "{'renan': 2.0}\n",
            "Digite o nome da pessoa: danilo\n",
            "Digite a altura de danilo em metros: 1.76\n",
            "{'renan': 2.0, 'danilo': 1.76}\n",
            "Digite o nome da pessoa: david\n",
            "Digite a altura de david em metros: 1.75\n",
            "{'renan': 2.0, 'danilo': 1.76, 'david': 1.75}\n",
            "Digite o nome da pessoa: parar\n",
            "A pessoa mais alta é: renan com 2.0 metros\n",
            "A pessoa mais baixa é: david com 1.75 metros\n"
          ]
        }
      ]
    },
    {
      "cell_type": "markdown",
      "source": [
        "# Lista, laços e Condicionais\n",
        "3) Descrição: Crie uma listacom cinco números inteiros. Use um laço de repetição e uma condicional para imprimir apenas os números que são múltiplos de 3."
      ],
      "metadata": {
        "id": "FytD4QZyELAt"
      }
    },
    {
      "cell_type": "code",
      "source": [
        "lista = [2,3,9,14,21]\n",
        "\n",
        "for i in lista:\n",
        "  if i%3 == 0:\n",
        "   print(i)"
      ],
      "metadata": {
        "colab": {
          "base_uri": "https://localhost:8080/"
        },
        "id": "pcHNEKzagv9G",
        "outputId": "6e732ecb-ce43-470a-d9e7-935507afc008"
      },
      "execution_count": 8,
      "outputs": [
        {
          "output_type": "stream",
          "name": "stdout",
          "text": [
            "3\n",
            "9\n",
            "21\n"
          ]
        }
      ]
    },
    {
      "cell_type": "markdown",
      "source": [
        "# Manipulação de Strings e Condicionais\n",
        "4) Descrição: Crie uma string com uma frase. Use uma condicional para verificar se a frase contém a palavra \"Python\". Se sim, substitua a palavra \"Python\" por \"programação\" e imprima a nova frase."
      ],
      "metadata": {
        "id": "hwn3Fz8aEYSH"
      }
    },
    {
      "cell_type": "code",
      "source": [
        "frase = \"Eu amo Python\"\n",
        "\n",
        "if \"Python\" in frase:\n",
        "  novafrase = frase.replace(\"Python\" , \"programação\")\n",
        "  print(novafrase)"
      ],
      "metadata": {
        "colab": {
          "base_uri": "https://localhost:8080/"
        },
        "id": "9p6CWgKChjge",
        "outputId": "fe1a6972-62ef-4a5d-d62a-1476aba85bc7"
      },
      "execution_count": 9,
      "outputs": [
        {
          "output_type": "stream",
          "name": "stdout",
          "text": [
            "Eu amo programação\n"
          ]
        }
      ]
    },
    {
      "cell_type": "markdown",
      "source": [
        "# Simulação de Alfândega com Cadastro Dinâmico de Itens usando dicionário\n",
        "5) Simule uma situação de alfândega onde o funcionário cadastra itens novos encontrados na mala de uma pessoa que veio de uma viagem internacional. Após o cadastro de todos os itens, o programa imprime uma nota com todos os itens e seus preços, calcula o valor total e, se o valor total ultrapassar 500 dólares, calcula o valor de 60% a ser pago."
      ],
      "metadata": {
        "id": "hPP-JNTxEwFT"
      }
    },
    {
      "cell_type": "code",
      "source": [
        "def cadastroitens():\n",
        "     itens = ()\n",
        "     while True:\n",
        "           itemname = input(\"Digite o nome do item(ou 'parar' para terminar): \")\n",
        "           if nomeitem.lower() == 'parar':\n",
        "               break\n",
        "           preçoitem = float(input(f\"Digite o preço do{itemname}: \"))\n",
        "           itens[itemname] = preçoitem\n",
        "     return itens\n",
        "\n",
        "def calvalortotal(itens):\n",
        "     return sum(itens.values())\n",
        "\n",
        "def calvalorpagar(total):\n",
        "     if total > 500:\n",
        "         return total *0.60\n",
        "     else:\n",
        "         return 0\n",
        "\n",
        "def imprinota(itens):\n",
        "    print(\"\\nNota fiscal: \")"
      ],
      "metadata": {
        "id": "SjIcmetLlhj0"
      },
      "execution_count": null,
      "outputs": []
    },
    {
      "cell_type": "markdown",
      "source": [
        "# Identificação de Palavras Negativas em um Texto\n",
        "6) Você vai criar um programa em Python para analisar um texto e identificar palavras que expressam pensamentos negativos. Para isso, você usará uma lista de palavras negativas fornecida e verificará quais dessas palavras estão presentes no texto fornecido pelo usuário. Exemplo de palavras negtivas, acrescente mais na lista: # Lista de palavras negativas palavras_negativas = ['triste', 'deprimido', 'ansioso', 'desapontado', 'frustrado']"
      ],
      "metadata": {
        "id": "OH8D047zVsp-"
      }
    },
    {
      "cell_type": "code",
      "source": [
        "palavras = ['triste', 'deprimido', 'ansioso', 'desapontado', 'frustrado']\n",
        "\n",
        "texto = input(\"Digite o texto:\")\n",
        "\n",
        "for i in palavras:\n",
        "   if i in texto:\n",
        "     print(f\"a palavra {i} esta presente no texto\")\n",
        "\n",
        "   else:\n",
        "     print(f\"a palavra {i} não está presente no texto \")"
      ],
      "metadata": {
        "id": "xDSrYWf_Vr8G",
        "colab": {
          "base_uri": "https://localhost:8080/"
        },
        "outputId": "aa6d8fee-6352-47bb-bb05-87d4eb2e654d"
      },
      "execution_count": 12,
      "outputs": [
        {
          "output_type": "stream",
          "name": "stdout",
          "text": [
            "Digite o texto:A cada dia que passa, sinto-me mais triste e deprimido, como se uma sombra pesada estivesse constantemente sobre mim. A vida parece uma série interminável de frustrações, onde cada esforço para mudar a situação acaba em mais um fracasso. O vazio é imenso, e as tentativas de encontrar alguma forma de alívio só parecem aprofundar a sensação de desesperança. A tristeza é uma companheira constante, e o sentimento de estar preso em um ciclo de frustração e desânimo é esmagador.\n",
            "a palavra triste esta presente no texto\n",
            "a palavra deprimido esta presente no texto\n",
            "a palavra ansioso não está presente no texto \n",
            "a palavra desapontado não está presente no texto \n",
            "a palavra frustrado não está presente no texto \n"
          ]
        }
      ]
    }
  ]
}